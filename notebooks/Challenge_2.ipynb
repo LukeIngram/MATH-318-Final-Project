{
 "cells": [
  {
   "attachments": {},
   "cell_type": "markdown",
   "metadata": {},
   "source": [
    "# **Challenge 2 - K Nearest Neighbors**\n",
    "* Sahil Gill, Luke Ingram\n",
    "* MATH 318 - Winter 2023      "
   ]
  },
  {
   "cell_type": "code",
   "execution_count": 2,
   "metadata": {},
   "outputs": [],
   "source": [
    "\n",
    "from sklearn.model_selection import train_test_split,cross_val_score\n",
    "from sklearn.neighbors import KNeighborsClassifier\n",
    "from sklearn.metrics import confusion_matrix,classification_report\n",
    "from sklearn.decomposition import IncrementalPCA\n",
    "from sklearn.cluster import KMeans\n",
    "import matplotlib.pyplot as plt \n",
    "from tqdm import tqdm \n",
    "import numpy as np \n",
    "import pandas as pd\n",
    "import cv2\n",
    "import glob\n",
    "import os\n"
   ]
  },
  {
   "attachments": {},
   "cell_type": "markdown",
   "metadata": {},
   "source": [
    "## **Section 1 - Loading the Data**"
   ]
  },
  {
   "cell_type": "code",
   "execution_count": 3,
   "metadata": {},
   "outputs": [
    {
     "data": {
      "image/png": "[encoded data removed]",
      "text/plain": [
       "<Figure size 640x480 with 1 Axes>"
      ]
     },
     "metadata": {},
     "output_type": "display_data"
    }
   ],
   "source": [
    "TARGET_NAMES =[\"Glass\",\"Paper\",\"Cardboard\",\"Plastic\",\"Metal\",\"Trash\"]\n",
    "\n",
    "dirName = \"../src/data/archive/zero-indexed-files.txt\"\n",
    "imgPath = \"../src/data/archive/Garbage_classification/load/\"\n",
    "\n",
    "df = pd.read_csv(dirName,sep=' ')\n",
    "df['image'] = imgPath + df['image'].astype(str)\n",
    "df['image'] = df['image'].apply(lambda x: cv2.imread(x))\n",
    "\n",
    "plt.clf()\n",
    "plt.rc('axes', axisbelow=True)\n",
    "plt.grid(linestyle='dotted')\n",
    "temp = plt.bar(list(range(6)),\n",
    "                np.unique(df['class'],return_counts=True)[1])\n",
    "_ = plt.title(\"Distribution of Classes in Raw Dataset\")\n",
    "_ = plt.xlabel(\"Class\")\n",
    "_ = plt.ylabel(\"Count\")\n",
    "\n",
    "plt.show()"
   ]
  },
  {
   "attachments": {},
   "cell_type": "markdown",
   "metadata": {},
   "source": [
    "In our dataset the class labels are assigned as follows:\n",
    "\n",
    "1. Glass\n",
    "\n",
    "2. Paper\n",
    "\n",
    "3. Cardboard\n",
    "\n",
    "4. Plastic\n",
    "\n",
    "5. Metal\n",
    "\n",
    "6. Trash\n",
    "\n",
    "Above, we've prepared a dataframe containing filepaths and their respective classes. Now we need to extract our design matrix.\n",
    "\n",
    "Previously, we introduced SIFT, an algorithm for keypoint and image descriptor generation. The algorithm outputs a keypoint object, a datatype that efficiently encodes both the keypoints and image descriptors for each image. However, if we use KNN, we must transform our data into a discrete set of features whose entries can be evaluated with a distance metric.\n",
    "\n",
    "## **Section 2 - Data Quantization**\n",
    "The process of generating said feature space involves three steps.\n",
    "\n",
    "1. **Extracting Keypoints & Descriptors**\n",
    "\n",
    "2. **Clustering** (Feature Reduction)\n",
    "\n",
    "3. **Normalization & Discretization**\n",
    "\n",
    "**Section 2.1 - Keypoints and Descriptors**\n",
    "\n",
    "Given the definitions of Keypoints and Descriptors in the previous challenge, let's consider the code needed to compute these as:"
   ]
  },
  {
   "cell_type": "code",
   "execution_count": 4,
   "metadata": {},
   "outputs": [],
   "source": [
    "# SIFT obtains & returns image descriptors\n",
    "def SIFT(img):\n",
    "    # normalize\n",
    "    norm = cv2.normalize(img,np.zeros(img.shape), 0, 255, cv2.NORM_MINMAX)\n",
    "    sift = cv2.SIFT_create() \n",
    "    kps,des = sift.detectAndCompute(norm,None) \n",
    "    if (len(kps) < 1): \n",
    "        print(\"NULL HERE\")\n",
    "\n",
    "    return kps,des"
   ]
  },
  {
   "attachments": {},
   "cell_type": "markdown",
   "metadata": {},
   "source": [
    "### **Section 2.2 - K-Means Clustering**\n",
    "\n",
    "K-Means clustering is an important component in understanding how peer-class images interact with one another through their clusterings. We can present this with the following function, using sklearn:"
   ]
  },
  {
   "cell_type": "code",
   "execution_count": 5,
   "metadata": {},
   "outputs": [],
   "source": [
    "# Using K-Means clustering for feature reduction. \n",
    "# Optimal K is determined by elbow method (see elbow_kmeans.py)\n",
    "def cluster(descriptors,k = 15):\n",
    "    clusters = KMeans(k,random_state=42,n_init='auto').fit(descriptors)\n",
    "    return clusters "
   ]
  },
  {
   "attachments": {},
   "cell_type": "markdown",
   "metadata": {},
   "source": [
    "For our purposes, we utilize kmeans to cluster the image descriptors.\n",
    "\n",
    "To find our optimal value of K we will utilize the elbow method:"
   ]
  },
  {
   "cell_type": "code",
   "execution_count": null,
   "metadata": {},
   "outputs": [],
   "source": [
    "def elbow_kmeans(data,kmax=60): \n",
    "    # Optimize\n",
    "    # Euclidean distance between clusters, 'Inertia'\n",
    "    dist = []\n",
    "    K = []\n",
    "\n",
    "    for k in tqdm(range(1,kmax,3)): #Minimum is number of classes\n",
    "        kmeans = KMeans(n_clusters=k,random_state=0)\n",
    "        kmeans.fit(data)\n",
    "        dist.append(kmeans.inertia_)\n",
    "        K.append(k)\n",
    "    \n",
    "    plt.plot(K,dist,'bx-')\n",
    "    plt.xlabel(\"K\")\n",
    "    plt.ylabel(\"Distance\")\n",
    "    plt.title(\"Elbow Optimization for Kmeans using the Inertia method\")\n",
    "    plt.show()"
   ]
  },
  {
   "attachments": {},
   "cell_type": "markdown",
   "metadata": {},
   "source": [
    "By the plot, we can see why it is called the *elbow* method. Our optimal value of k is given by the crux of the *elbow* or the point in which the *Inertia* becomes monotonically decreasing. By *Inertia* we really mean the Euclidean Distance between the center of our clusters or *centroids*. "
   ]
  },
  {
   "attachments": {},
   "cell_type": "markdown",
   "metadata": {},
   "source": [
    "### **Section 2.3 - Normalization & Discretization**\n",
    "\n",
    "It's important for us to normalize our data; or in other words transform our images into binary, which according to the SIFT paper, provides us with more floating point precision between [0, 1]. Given these descriptors, to mitigate noise and to reduce dimensionality, we might cluster these descriptors and apply discretization. In essence, given a cluster of descriptors, we can drop these descriptors in a corresponding bin in a histogram, which allows us to decrease dimensionality while also increasing the order of our descriptors."
   ]
  },
  {
   "cell_type": "code",
   "execution_count": 6,
   "metadata": {},
   "outputs": [],
   "source": [
    "# Data binning through normalized histograms. \n",
    "def binData(keypoints,descriptors,clusters):\n",
    "    hists = []\n",
    "    for kps,des in zip(keypoints,descriptors):\n",
    "        hist = np.zeros(len(clusters.labels_))\n",
    "        normFact = np.size(kps)\n",
    "        bin = clusters.predict([des])\n",
    "        hist[bin] += 1/normFact\n",
    "        hists.append(hist)\n",
    "    return hists"
   ]
  },
  {
   "attachments": {},
   "cell_type": "markdown",
   "metadata": {},
   "source": [
    "The function above generates a image his\n",
    "\n",
    "TODO VISUAL BAG OF WORDS"
   ]
  },
  {
   "attachments": {},
   "cell_type": "markdown",
   "metadata": {},
   "source": [
    "## **Section 3 - KNN Classification**\n",
    "\n",
    "Now, we will classify using KNN. In this code block, we combine every topic introduced so far; obtaining the data, performing K-Means, and Discretization to prepare for Cross Validation and KNN with an optimal K."
   ]
  },
  {
   "cell_type": "code",
   "execution_count": 7,
   "metadata": {},
   "outputs": [],
   "source": [
    "# Split data into training & testing sets\n",
    "train_X,test_X,train_Y,test_Y = train_test_split(df['image'],df['class'],\n",
    "                                                 test_size=0.33,random_state=42,stratify=df['class'])\n",
    "\n",
    "\n",
    "# Fetch keypoints from training data\n",
    "train_keys = []\n",
    "train_des = []\n",
    "for sample in train_X: \n",
    "    kps,des = SIFT(sample)\n",
    "    train_keys.append(kps)\n",
    "    for d in des: \n",
    "        train_des.append(d)\n",
    "\n",
    "# find optimal clustering\n",
    "\n",
    "# cluster data with said optimal value (from elbow)\n",
    "kmeans = cluster(train_des,k = 15)\n",
    "\n",
    "# Histogram with new clusters\n",
    "train_hists = binData(train_keys,train_des,kmeans)\n",
    "\n",
    "# Now Histogram the testing data using kmeans from training\n",
    "test_keys = []\n",
    "test_des = []\n",
    "for sample in test_X: \n",
    "    kps,des = SIFT(sample)\n",
    "    test_keys.append(kps)\n",
    "    for d in des: \n",
    "        test_des.append(d)\n",
    "\n",
    "test_hists = binData(test_keys,test_des,kmeans)"
   ]
  },
  {
   "attachments": {},
   "cell_type": "markdown",
   "metadata": {},
   "source": [
    "### **Section 3.1 - K-Fold Cross Validation**\n",
    "\n",
    "We need to define a Cross Validation function:"
   ]
  },
  {
   "cell_type": "code",
   "execution_count": 8,
   "metadata": {},
   "outputs": [
    {
     "name": "stderr",
     "output_type": "stream",
     "text": [
      "100%|██████████| 19/19 [12:33<00:00, 39.68s/it]\n"
     ]
    },
    {
     "ename": "AttributeError",
     "evalue": "module 'numpy' has no attribute 'arrange'",
     "output_type": "error",
     "traceback": [
      "\u001b[0;31m---------------------------------------------------------------------------\u001b[0m",
      "\u001b[0;31mAttributeError\u001b[0m                            Traceback (most recent call last)",
      "Cell \u001b[0;32mIn[8], line 16\u001b[0m\n\u001b[1;32m     12\u001b[0m     plt\u001b[39m.\u001b[39mxticks(np\u001b[39m.\u001b[39marrange(\u001b[39m1\u001b[39m,kmax)\u001b[39m+\u001b[39m\u001b[39m1\u001b[39m,\u001b[39m1.0\u001b[39m) \n\u001b[1;32m     13\u001b[0m     plt\u001b[39m.\u001b[39mshow()\n\u001b[0;32m---> 16\u001b[0m crossValidate(train_hists,train_Y,kmax\u001b[39m=\u001b[39;49m\u001b[39m20\u001b[39;49m)\n",
      "Cell \u001b[0;32mIn[8], line 12\u001b[0m, in \u001b[0;36mcrossValidate\u001b[0;34m(X, Y, folds, kmax)\u001b[0m\n\u001b[1;32m     10\u001b[0m plt\u001b[39m.\u001b[39mylabel(\u001b[39m\"\u001b[39m\u001b[39mCV Accuracy\u001b[39m\u001b[39m\"\u001b[39m)\n\u001b[1;32m     11\u001b[0m plt\u001b[39m.\u001b[39mtitle(\u001b[39m\"\u001b[39m\u001b[39mCross Validated Accuracy of KNN\u001b[39m\u001b[39m\"\u001b[39m)\n\u001b[0;32m---> 12\u001b[0m plt\u001b[39m.\u001b[39mxticks(np\u001b[39m.\u001b[39;49marrange(\u001b[39m1\u001b[39m,kmax)\u001b[39m+\u001b[39m\u001b[39m1\u001b[39m,\u001b[39m1.0\u001b[39m) \n\u001b[1;32m     13\u001b[0m plt\u001b[39m.\u001b[39mshow()\n",
      "File \u001b[0;32m~/Documents/GitHub/MATH-318-Final-Project/venv/lib/python3.10/site-packages/numpy/__init__.py:311\u001b[0m, in \u001b[0;36m__getattr__\u001b[0;34m(attr)\u001b[0m\n\u001b[1;32m    308\u001b[0m     \u001b[39mfrom\u001b[39;00m \u001b[39m.\u001b[39;00m\u001b[39mtesting\u001b[39;00m \u001b[39mimport\u001b[39;00m Tester\n\u001b[1;32m    309\u001b[0m     \u001b[39mreturn\u001b[39;00m Tester\n\u001b[0;32m--> 311\u001b[0m \u001b[39mraise\u001b[39;00m \u001b[39mAttributeError\u001b[39;00m(\u001b[39m\"\u001b[39m\u001b[39mmodule \u001b[39m\u001b[39m{!r}\u001b[39;00m\u001b[39m has no attribute \u001b[39m\u001b[39m\"\u001b[39m\n\u001b[1;32m    312\u001b[0m                      \u001b[39m\"\u001b[39m\u001b[39m{!r}\u001b[39;00m\u001b[39m\"\u001b[39m\u001b[39m.\u001b[39mformat(\u001b[39m__name__\u001b[39m, attr))\n",
      "\u001b[0;31mAttributeError\u001b[0m: module 'numpy' has no attribute 'arrange'"
     ]
    },
    {
     "data": {
      "image/png": "[encoded data removed]",
      "text/plain": [
       "<Figure size 640x480 with 1 Axes>"
      ]
     },
     "metadata": {},
     "output_type": "display_data"
    }
   ],
   "source": [
    "def crossValidate(X,Y,folds=10,kmax = 10):\n",
    "    kscores = []\n",
    "    for i in tqdm(range(1,kmax)):\n",
    "        knn = KNeighborsClassifier(n_neighbors=i,n_jobs=8) # 5 parallel tasks to speed things up\n",
    "        cv = cross_val_score(knn,X,Y,cv=folds,scoring=\"accuracy\")\n",
    "        kscores.append(cv.mean())\n",
    "    \n",
    "    plt.plot(list(range(1,kmax)),kscores,'bx-')  \n",
    "    plt.xlabel(\"Number of Neighbors k\")\n",
    "    plt.ylabel(\"CV Accuracy\")\n",
    "    plt.title(\"Cross Validated Accuracy of KNN\")\n",
    "    plt.xticks(np.arange(1,kmax)+1,1.0) \n",
    "    plt.show()\n",
    "\n",
    "\n",
    "crossValidate(train_hists,train_Y,kmax=20)"
   ]
  },
  {
   "attachments": {},
   "cell_type": "markdown",
   "metadata": {},
   "source": [
    "### **Section 3.2 - Classifying with Optimized K**\n",
    "By looking at our plots, we determined that the optimal K=11. Thus, we can approach using 11NN."
   ]
  },
  {
   "cell_type": "code",
   "execution_count": 9,
   "metadata": {},
   "outputs": [],
   "source": [
    "knn = KNeighborsClassifier(n_neighbors=18)\n",
    "knn.fit(train_hists,train_Y)\n",
    "\n",
    "res = knn.predict(test_hists)"
   ]
  },
  {
   "attachments": {},
   "cell_type": "markdown",
   "metadata": {},
   "source": [
    "After fitting & predicting with our optimal value of k, we can evaluate our classifier with this function."
   ]
  },
  {
   "cell_type": "code",
   "execution_count": 12,
   "metadata": {},
   "outputs": [
    {
     "name": "stdout",
     "output_type": "stream",
     "text": [
      "              precision    recall  f1-score   support\n",
      "\n",
      "       Glass       0.26      0.46      0.33       166\n",
      "       Paper       0.36      0.46      0.40       196\n",
      "   Cardboard       0.16      0.07      0.10       133\n",
      "     Plastic       0.25      0.24      0.25       159\n",
      "       Metal       0.22      0.13      0.16       135\n",
      "       Trash       0.00      0.00      0.00        45\n",
      "\n",
      "    accuracy                           0.28       834\n",
      "   macro avg       0.21      0.23      0.21       834\n",
      "weighted avg       0.24      0.28      0.25       834\n",
      "\n"
     ]
    },
    {
     "name": "stderr",
     "output_type": "stream",
     "text": [
      "/home/luke/Documents/GitHub/MATH-318-Final-Project/venv/lib/python3.10/site-packages/sklearn/metrics/_classification.py:1344: UndefinedMetricWarning: Precision and F-score are ill-defined and being set to 0.0 in labels with no predicted samples. Use `zero_division` parameter to control this behavior.\n",
      "  _warn_prf(average, modifier, msg_start, len(result))\n",
      "/home/luke/Documents/GitHub/MATH-318-Final-Project/venv/lib/python3.10/site-packages/sklearn/metrics/_classification.py:1344: UndefinedMetricWarning: Precision and F-score are ill-defined and being set to 0.0 in labels with no predicted samples. Use `zero_division` parameter to control this behavior.\n",
      "  _warn_prf(average, modifier, msg_start, len(result))\n",
      "/home/luke/Documents/GitHub/MATH-318-Final-Project/venv/lib/python3.10/site-packages/sklearn/metrics/_classification.py:1344: UndefinedMetricWarning: Precision and F-score are ill-defined and being set to 0.0 in labels with no predicted samples. Use `zero_division` parameter to control this behavior.\n",
      "  _warn_prf(average, modifier, msg_start, len(result))\n"
     ]
    },
    {
     "data": {
      "image/png": "[encoded data removed]",
      "text/plain": [
       "<Figure size 640x480 with 1 Axes>"
      ]
     },
     "metadata": {},
     "output_type": "display_data"
    }
   ],
   "source": [
    "# Compute evaluation given classification results \n",
    "def evaluate(Y_hat,Y_truth): \n",
    "    print(classification_report(Y_truth,Y_hat,target_names=TARGET_NAMES))\n",
    "    cm = confusion_matrix(Y_truth, Y_hat)\n",
    "    plt.imshow(cm, interpolation='nearest', cmap=plt.cm.Blues)\n",
    "\n",
    "    plt.title(\"Confusion Matrix\")\n",
    "    plt.xlabel(\"Prediction\")\n",
    "    plt.ylabel(\"Observation\")\n",
    "    plt.show()\n",
    "\n",
    "evaluate(res,test_Y)"
   ]
  },
  {
   "cell_type": "markdown",
   "metadata": {},
   "source": []
  },
  {
   "attachments": {},
   "cell_type": "markdown",
   "metadata": {},
   "source": [
    "## **Section 4 - Raw Pixel Data**\n",
    "\n",
    "A naive approach might be to flatten all 2527 images into row vectors. This might seem like a clever idea at first, but there are fundamental flaws with this approach. Firstly, pixels by themselves struggle to encode spatial information like keypoints or SIFTs. The more concerning problem is the fact that even trying to perform Principal Component Analysis on a dataset of shape $2526 \\times 589825$ is computationally intractible for most consumer devices. Despite using a more incremental approach to stave memory use, coupled with the fact that batch sizes were limited to 10, execution of the following code block required a whopping 29.5 gigabytes of memory. \n",
    "\n",
    "-------\n",
    "best explained variation is approximately 20%\n",
    "\n",
    "number of components is limibted by batches\n",
    "\n",
    "29.5 gbs\n",
    "\n",
    "------"
   ]
  },
  {
   "cell_type": "code",
   "execution_count": null,
   "metadata": {},
   "outputs": [],
   "source": [
    "\n",
    "# Load & flatten entire dataset to memory\n",
    "imgPaths = glob.glob(\"../src/data/archive/Garbage_classification/load/*.jpg\")\n",
    "X_raw = np.array([np.array(cv2.imread(img)) for img in imgPaths])\n",
    "X_data = X_raw.flatten().reshape(2527,589824) # flatten & reshape to retain features\n",
    "\n",
    "df = pd.read_csv(\"data/archive/zero-indexed-files.txt\",sep=' ')\n",
    "\n",
    "print(df.head(6)) #DEBUG\n",
    "\n",
    "# Train test split \n",
    "X_train,X_test,Y_train,Y_train = train_test_split(np.array([X_data[:,i] for i in range(X_data.shape[1])]).T,df['class'],\n",
    "                                                    test_size=0.20,random_state=42,stratify=df['class'])\n",
    "\n",
    "# Reduce down with PCA (using as many components as our RAM limitations allow)\n",
    "\n",
    "Xs_train = X_train/255.0\n",
    "Xs_test = X_test/255.0\n",
    "\n",
    "pca = IncrementalPCA(n_components = None,batch_size=10) # incrimental used as entire set cannot fit into memory \n",
    "tqdm(pca.fit(Xs_train))\n",
    "Xs_train_reduced = pca.transform(Xs_train) \n",
    "Xs_test_reduced = pca.transform(Xs_test)\n",
    "\n",
    "print(pca.explained_variance_)\n",
    "\n",
    "print(f\"Dimensions of data after PCA: {Xs_train_reduced.shape}\") \n",
    "\n",
    "# find optimal neighbors\n",
    "crossValidate(Xs_train_reduced,Y_train,kmax=15)"
   ]
  },
  {
   "attachments": {},
   "cell_type": "markdown",
   "metadata": {},
   "source": [
    "TODO BASED ON PLOT CHOOSE K"
   ]
  },
  {
   "cell_type": "code",
   "execution_count": null,
   "metadata": {},
   "outputs": [],
   "source": [
    "knn = KNeighborsClassifier(n_neighbors=TODO)\n",
    "knn.fit(train_hists,train_Y)\n",
    "\n",
    "res = knn.predict(test_hists)\n",
    "\n",
    "#THEN USE EVAL "
   ]
  }
 ],
 "metadata": {
  "kernelspec": {
   "display_name": "venv",
   "language": "python",
   "name": "python3"
  },
  "language_info": {
   "codemirror_mode": {
    "name": "ipython",
    "version": 3
   },
   "file_extension": ".py",
   "mimetype": "text/x-python",
   "name": "python",
   "nbconvert_exporter": "python",
   "pygments_lexer": "ipython3",
   "version": "3.10.6"
  },
  "orig_nbformat": 4
 },
 "nbformat": 4,
 "nbformat_minor": 2
}
